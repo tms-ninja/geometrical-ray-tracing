{
 "cells": [
  {
   "cell_type": "markdown",
   "metadata": {},
   "source": [
    "# Abberation"
   ]
  },
  {
   "cell_type": "code",
   "execution_count": 1,
   "metadata": {
    "tags": []
   },
   "outputs": [],
   "source": [
    "%matplotlib widget\n",
    "import numpy as np\n",
    "import matplotlib\n",
    "import matplotlib.pyplot as plt\n",
    "from ipywidgets import *\n",
    "from IPython.display import display\n",
    "\n",
    "from tracing import PyTrace, PyRay, PyRefract_Plane, PyRefract_Sph, PyCC_Wrap\n",
    "\n",
    "plt.style.use('dark_background')\n",
    "\n",
    "matplotlib.rcParams['mathtext.fontset'] = 'stix'\n",
    "matplotlib.rcParams['font.family'] = 'STIXGeneral'\n",
    "matplotlib.rc('font', size=14)"
   ]
  },
  {
   "cell_type": "code",
   "execution_count": 2,
   "metadata": {
    "tags": []
   },
   "outputs": [],
   "source": [
    "class Doublet(PyCC_Wrap):\n",
    "    def __init__(self, wavelength) -> None:\n",
    "        comps = []\n",
    "\n",
    "        # Good \n",
    "        # R_left = 60.0\n",
    "        # R_mid = 32.0\n",
    "        # R_right = 85.0\n",
    "\n",
    "        R_left = 60.0\n",
    "        R_mid = 32.0\n",
    "        R_right = 85.0\n",
    "\n",
    "        centre = np.zeros(2)\n",
    "        R_lens = 20.0\n",
    "        self._R_lens = R_lens\n",
    "        d = 0.0\n",
    "\n",
    "        # sellmeier Eq coefficients of first and second parts\n",
    "        # C parameters are in units micrometers^2\n",
    "        # First is BK7 crown glass\n",
    "        self._left_refr_param = {\n",
    "            'B': np.array([1.03961212, 0.231792344, 1.01046945]),\n",
    "            'C': np.array([6.00069867e-3, 2.00179144e-2, 103.560653])\n",
    "        }\n",
    "\n",
    "        # SF2 Flint glass https://refractiveindex.info/?shelf=glass&book=SCHOTT-SF&page=SF2\n",
    "        self._right_refr_param = {\n",
    "            'B': np.array([1.40301821, 0.231767504, 0.939056586]),\n",
    "            'C': np.array([0.0105795466, 0.0493226978, 112.405955])\n",
    "        }\n",
    "\n",
    "        n1 = self.sellmeier_eq(wavelength, **self._left_refr_param)\n",
    "        n2 = self.sellmeier_eq(wavelength, **self._right_refr_param)\n",
    "\n",
    "        # left arc      \n",
    "        param = self._create_arc_param(True, centre, R_lens, R_left, R_left, d, n1, n_out=1.0)\n",
    "        self._left_arc = PyRefract_Sph(**param)\n",
    "        comps.append(self._left_arc)\n",
    "\n",
    "        # Middle arc\n",
    "        param = self._create_arc_param(False, centre, R_lens, R_mid, R_mid, d, n1, n_out=n2)\n",
    "        self._middle_arc = PyRefract_Sph(**param)\n",
    "        comps.append(self._middle_arc)\n",
    "\n",
    "        param = self._create_arc_param(False, np.array([10.0, 0.0]), R_lens, R_right, R_right, d, n2, n_out=1.0)\n",
    "        self._right_arc = PyRefract_Sph(**param)\n",
    "\n",
    "        comps.append(self._right_arc)\n",
    "\n",
    "        super().__init__(comps)\n",
    "\n",
    "    def _comp_arc_centre(self, left, lens_centre, R_lens, R1, R2, d, n_in, n_out):\n",
    "        \"\"\"Returns the centre of the arc\"\"\"\n",
    "        ans = lens_centre.copy()\n",
    "\n",
    "        R = R1 if left else R2\n",
    "        lft = 1 if left else -1\n",
    "\n",
    "        ans[0] += lft *( np.sign(R) * np.sqrt(R**2 - R_lens**2) - d/2)\n",
    "\n",
    "        return ans\n",
    "\n",
    "    def _comp_arc_angles(self, left, lens_centre, R_lens, R1, R2, d, n_in, n_out):\n",
    "        \"\"\"Returns the angles of the arc\"\"\"\n",
    "\n",
    "        R = R1 if left else R2\n",
    "        lft = 1 if left else -1\n",
    "\n",
    "        ang = np.arcsin(np.abs(R_lens / R))\n",
    "\n",
    "        start, end = -ang, ang\n",
    "\n",
    "        if lft * R >= R_lens:\n",
    "            start += np.pi\n",
    "            end += np.pi\n",
    "\n",
    "        return (start, end)\n",
    "\n",
    "    def _comp_arc_refr_ind(self, left, lens_centre, R_lens, R1, R2, d, n_in, n_out):\n",
    "        \"\"\"Returns refractive indices n_in and n_out\"\"\"\n",
    "\n",
    "        R = R1 if left else R2\n",
    "\n",
    "        # Convex arc\n",
    "        if R >= R_lens:\n",
    "            return (n_in, n_out)\n",
    "\n",
    "        return (n_out, n_in)\n",
    "\n",
    "    def _create_arc_param(self, left, lens_centre, R_lens, R1, R2, d, n_in, n_out):\n",
    "        \"\"\"Returns a dictionary of params for creating the left arc\"\"\"\n",
    "\n",
    "        param = dict()\n",
    "\n",
    "        param['centre'] = self._comp_arc_centre(left, lens_centre, R_lens, R1, R2, d, n_in, n_out)\n",
    "\n",
    "        param['R'] = np.abs(R1 if left else R2)\n",
    "\n",
    "        param[\"start\"], param['end'] = self._comp_arc_angles(left, lens_centre, R_lens, R1, R2, d, n_in, n_out)\n",
    "\n",
    "        param['n_in'], param['n_out'] = self._comp_arc_refr_ind(left, lens_centre, R_lens, R1, R2, d, n_in, n_out)\n",
    "\n",
    "        return param\n",
    "\n",
    "    def sellmeier_eq(self, lamd, B, C):\n",
    "        \"\"\"\n",
    "        Computes the refractive index using the Sellmeier equation.\n",
    "        C should use units of micrometers^2\n",
    "        \"\"\"\n",
    "        lsq = lamd**2\n",
    "\n",
    "        total = 1.0 + np.sum(B*lsq/(lsq-C))\n",
    "\n",
    "        return np.sqrt(total)\n",
    "\n",
    "    def update_refr_ind(self, new_wavelength):\n",
    "        \"\"\"Updates the refractive index \"\"\"\n",
    "\n",
    "        n1 = self.sellmeier_eq(new_wavelength, **self._left_refr_param)\n",
    "        n2 = self.sellmeier_eq(new_wavelength, **self._right_refr_param)\n",
    "\n",
    "        # left arc\n",
    "        self._left_arc.n_in = n1\n",
    "\n",
    "        # right arc\n",
    "        self._middle_arc.n_in = n1\n",
    "        self._middle_arc.n_out = n2\n",
    "\n",
    "        # Right arc\n",
    "        self._right_arc.n_in = n2\n",
    "\n",
    "    def update_R_right(self, new_r):\n",
    "        \"\"\"Updates the radius of curvature on the right\"\"\"\n",
    "\n",
    "        param = self._create_arc_param(False, np.array([10.0, 0.0]), self._R_lens, new_r, new_r, 0.0, 1.0, 1.0)\n",
    "\n",
    "        self._right_arc.centre = param['centre']\n",
    "        self._right_arc.R = param['R']\n",
    "        self._right_arc.update_start_end(param['start'], param['end'])\n",
    "        \n",
    "    def update_R_mid(self, new_r):\n",
    "        param = self._create_arc_param(False, np.zeros(2), self._R_lens, new_r, new_r, 0.0, 1.0, 1.0)\n",
    "\n",
    "        self._middle_arc.centre = param['centre']\n",
    "        self._middle_arc.R = param['R']\n",
    "        self._middle_arc.update_start_end(param['start'], param['end'])"
   ]
  },
  {
   "cell_type": "code",
   "execution_count": 3,
   "metadata": {
    "tags": []
   },
   "outputs": [],
   "source": [
    "# This is useful as the plotting routine returns a nested list with the leaves\n",
    "# corresponding to the plotting data\n",
    "def crawl(lst):\n",
    "    \"\"\"Crawls a nested list and yields none-list items\"\"\"\n",
    "    \n",
    "    if isinstance(lst, list):  # If lst is a list, we want to crawl its elements\n",
    "        for elem in lst:\n",
    "            yield from crawl(elem)\n",
    "    else:\n",
    "        yield lst\n",
    "\n",
    "def extend_to_axis(pos):\n",
    "    \"\"\"Extends the as position of the ray so last point is on axis\"\"\"\n",
    "\n",
    "    ans = pos.copy()\n",
    "\n",
    "    grad = np.gradient(pos[-2:, 1], pos[-2:, 0])[0]\n",
    "\n",
    "    # x_intercept = x_1 - y_1/grad\n",
    "    ans[-1, 0] = pos[-2, 0] - pos[-2, 1] / grad\n",
    "    ans[-1, 1] = 0.0\n",
    "\n",
    "    return ans\n"
   ]
  },
  {
   "cell_type": "code",
   "execution_count": 4,
   "metadata": {
    "tags": []
   },
   "outputs": [],
   "source": [
    "doub = Doublet(0.5)\n",
    "\n",
    "def plot(y, wavelengths):\n",
    "    \"\"\"Computes focal point for a ray at y\"\"\"\n",
    "\n",
    "    sol = np.empty_like(wavelengths)\n",
    "    \n",
    "    for ind, w in enumerate(wavelengths):\n",
    "        doub.update_refr_ind(w)\n",
    "\n",
    "        r = PyRay(np.array([-5.0, y]), np.array([1.0, 0.0]))\n",
    "\n",
    "        PyTrace([doub], [r], n=4)\n",
    "\n",
    "        # Add position data\n",
    "        pos = r.plot()\n",
    "        \n",
    "        #grad = np.gradient(pos[-2:, 1], pos[-2:, 0])[0]\n",
    "        x1, y1 = pos[-2]\n",
    "        x2, y2 = pos[-1]\n",
    "        \n",
    "        grad = (y2-y1) / (x2-x1)\n",
    "\n",
    "        sol[ind] = x1 - y1 / grad\n",
    "\n",
    "    return (wavelengths, sol)\n"
   ]
  },
  {
   "cell_type": "code",
   "execution_count": 30,
   "metadata": {
    "collapsed": true,
    "jupyter": {
     "outputs_hidden": true,
     "source_hidden": true
    },
    "tags": []
   },
   "outputs": [
    {
     "data": {
      "application/vnd.jupyter.widget-view+json": {
       "model_id": "caf17a06af3b489e8ef4917986099c0e",
       "version_major": 2,
       "version_minor": 0
      },
      "text/plain": [
       "Canvas(toolbar=Toolbar(toolitems=[('Home', 'Reset original view', 'home', 'home'), ('Back', 'Back to previous …"
      ]
     },
     "metadata": {},
     "output_type": "display_data"
    },
    {
     "ename": "TypeError",
     "evalue": "plot() missing 1 required positional argument: 'wavelengths'",
     "output_type": "error",
     "traceback": [
      "\u001b[0;31m---------------------------------------------------------------------------\u001b[0m",
      "\u001b[0;31mTypeError\u001b[0m                                 Traceback (most recent call last)",
      "\u001b[0;32m<ipython-input-30-fae55ecf8090>\u001b[0m in \u001b[0;36m<module>\u001b[0;34m\u001b[0m\n\u001b[1;32m     16\u001b[0m \u001b[0;34m\u001b[0m\u001b[0m\n\u001b[1;32m     17\u001b[0m \u001b[0;31m# Plot focus\u001b[0m\u001b[0;34m\u001b[0m\u001b[0;34m\u001b[0m\u001b[0;34m\u001b[0m\u001b[0m\n\u001b[0;32m---> 18\u001b[0;31m \u001b[0mwav\u001b[0m\u001b[0;34m,\u001b[0m \u001b[0mfocus\u001b[0m \u001b[0;34m=\u001b[0m \u001b[0mplot\u001b[0m\u001b[0;34m(\u001b[0m\u001b[0;36m0.5\u001b[0m\u001b[0;34m)\u001b[0m\u001b[0;34m\u001b[0m\u001b[0;34m\u001b[0m\u001b[0m\n\u001b[0m\u001b[1;32m     19\u001b[0m \u001b[0mfocus_line\u001b[0m\u001b[0;34m,\u001b[0m \u001b[0;34m=\u001b[0m \u001b[0max2\u001b[0m\u001b[0;34m.\u001b[0m\u001b[0mplot\u001b[0m\u001b[0;34m(\u001b[0m\u001b[0mwav\u001b[0m\u001b[0;34m,\u001b[0m \u001b[0mfocus\u001b[0m\u001b[0;34m)\u001b[0m\u001b[0;34m\u001b[0m\u001b[0;34m\u001b[0m\u001b[0m\n\u001b[1;32m     20\u001b[0m \u001b[0;34m\u001b[0m\u001b[0m\n",
      "\u001b[0;31mTypeError\u001b[0m: plot() missing 1 required positional argument: 'wavelengths'"
     ]
    }
   ],
   "source": [
    "# Plotting\n",
    "fig, (ax1, ax2) = plt.subplots(1, 2)\n",
    "ax1.set_aspect('equal')\n",
    "ax1.set_xlabel(\"$\\mathrm{Lens} \\, x \\, (\\mathrm{mm})$\")\n",
    "ax1.set_ylabel(\"$\\mathrm{Lens} \\, y \\, (\\mathrm{mm})$\")\n",
    "\n",
    "comp_lines = []\n",
    "\n",
    "# Plot components\n",
    "for sub_comp in crawl(doub.plot()):\n",
    "    c_x, c_y = sub_comp.T\n",
    "\n",
    "    line, = ax1.plot(c_x, c_y, color=\"C0\")\n",
    "\n",
    "    comp_lines.append(line)\n",
    "        \n",
    "# Plot focus\n",
    "wav, focus = plot(0.5)\n",
    "focus_line, = ax2.plot(wav, focus)\n",
    "\n",
    "ax2.set_xlabel(\"$\\mathrm{Wavelength} \\, (\\mathrm{\\mu m})$\")\n",
    "ax2.set_ylabel(\"$\\mathrm{Focal} \\, \\mathrm{distance} \\, (\\mathrm{mm})$\")\n",
    "\n",
    "def event_handler(y, R_mid, R_right):\n",
    "    \n",
    "    doub.update_R_mid(R_mid)\n",
    "    doub.update_R_right(R_right)\n",
    "    \n",
    "    # Update lens shape first\n",
    "    for sub_comp, line in zip(crawl(doub.plot()), comp_lines):\n",
    "        c_x, c_y = sub_comp.T\n",
    "\n",
    "        line.set_xdata(c_x)\n",
    "        line.set_ydata(c_y)\n",
    "        \n",
    "        \n",
    "    ax1.relim()\n",
    "    ax1.autoscale_view()\n",
    "    \n",
    "    # Update the focus point \n",
    "    _, new_data = plot(y=y, wavelengths=wav)\n",
    "\n",
    "    focus_line.set_ydata(new_data)\n",
    "    \n",
    "    ax2.relim()\n",
    "    ax2.autoscale_view()\n",
    "    \n",
    "    fig.canvas.draw_idle()\n",
    "\n",
    "interact(event_handler, \n",
    "         y=widgets.FloatSlider(min=0.1, max=19.0, step=0.2, value=0.5),\n",
    "         R_mid=widgets.IntSlider(min=21, max=100, step=1, value=85),\n",
    "         R_right=widgets.IntSlider(min=21, max=120, step=1, value=85));"
   ]
  },
  {
   "cell_type": "markdown",
   "metadata": {},
   "source": [
    "## Optmisation\n",
    "using Scipy.Optimize to achive a focal length of 100 mm."
   ]
  },
  {
   "cell_type": "code",
   "execution_count": 5,
   "metadata": {},
   "outputs": [],
   "source": [
    "from scipy.optimize import minimize"
   ]
  },
  {
   "cell_type": "code",
   "execution_count": 6,
   "metadata": {},
   "outputs": [],
   "source": [
    "def min_func(x):\n",
    "    \"\"\"Minimisation function\"\"\"\n",
    "    \n",
    "    # variable arguments must be specified as a single parameter and unpacked\n",
    "    R_mid, R_right = x\n",
    "    \n",
    "    doub.update_R_mid(R_mid)\n",
    "    doub.update_R_right(R_right)\n",
    "    \n",
    "    y = 0.5\n",
    "    target = 100.0\n",
    "    wavelengths = np.linspace(0.4, 0.8, 50)\n",
    "    \n",
    "    _, focus = plot(y=y, wavelengths=wavelengths)\n",
    "    \n",
    "    return np.sum((focus - target)**2)"
   ]
  },
  {
   "cell_type": "code",
   "execution_count": 17,
   "metadata": {},
   "outputs": [
    {
     "name": "stdout",
     "output_type": "stream",
     "text": [
      "406 ms ± 30.5 ms per loop (mean ± std. dev. of 7 runs, 1 loop each)\n"
     ]
    }
   ],
   "source": [
    "%%timeit\n",
    "# Let 24 <= R_mid <= 100 & 21 <= R_right <= 120 to avoid intersection\n",
    "x0 = np.array([30.0, 100.0])\n",
    "\n",
    "sol = minimize(min_func, x0, bounds=((24, 100), (21, 120)))"
   ]
  },
  {
   "cell_type": "code",
   "execution_count": 14,
   "metadata": {},
   "outputs": [
    {
     "data": {
      "text/plain": [
       "      fun: 0.482686929190119\n",
       " hess_inv: <2x2 LbfgsInvHessProduct with dtype=float64>\n",
       "      jac: array([ 0.14923554, -0.0525897 ])\n",
       "  message: 'CONVERGENCE: REL_REDUCTION_OF_F_<=_FACTR*EPSMCH'\n",
       "     nfev: 108\n",
       "      nit: 12\n",
       "     njev: 36\n",
       "   status: 0\n",
       "  success: True\n",
       "        x: array([ 36.14813428, 112.43814462])"
      ]
     },
     "execution_count": 14,
     "metadata": {},
     "output_type": "execute_result"
    }
   ],
   "source": [
    "sol"
   ]
  },
  {
   "cell_type": "code",
   "execution_count": 15,
   "metadata": {},
   "outputs": [],
   "source": [
    "import cProfile\n",
    "import pstats"
   ]
  },
  {
   "cell_type": "code",
   "execution_count": 16,
   "metadata": {},
   "outputs": [
    {
     "name": "stdout",
     "output_type": "stream",
     "text": [
      "         147246 function calls (146848 primitive calls) in 0.476 seconds\n",
      "\n",
      "   Ordered by: internal time\n",
      "\n",
      "   ncalls  tottime  percall  cumtime  percall filename:lineno(function)\n",
      "     5400    0.148    0.000    0.148    0.000 {tracing.PyTrace}\n",
      "    10800    0.095    0.000    0.189    0.000 <ipython-input-2-e9e5e38e23a6>:106(sellmeier_eq)\n",
      "      108    0.058    0.001    0.444    0.004 <ipython-input-4-86c891bf9ffd>:3(plot)\n",
      "    11127    0.037    0.000    0.037    0.000 {method 'reduce' of 'numpy.ufunc' objects}\n",
      "     5400    0.021    0.000    0.021    0.000 {method 'plot' of 'tracing.PyRay' objects}\n",
      "    11089    0.017    0.000    0.062    0.000 /home/tom/anaconda3/lib/python3.8/site-packages/numpy/core/fromnumeric.py:70(_wrapreduction)\n",
      "    11571    0.015    0.000    0.015    0.000 {built-in method numpy.array}\n",
      "    10908    0.015    0.000    0.077    0.000 /home/tom/anaconda3/lib/python3.8/site-packages/numpy/core/fromnumeric.py:2111(sum)\n",
      "     5400    0.014    0.000    0.202    0.000 <ipython-input-2-e9e5e38e23a6>:117(update_refr_ind)\n",
      "11963/11565    0.010    0.000    0.098    0.000 {built-in method numpy.core._multiarray_umath.implement_array_function}\n",
      "    10908    0.008    0.000    0.095    0.000 <__array_function__ internals>:2(sum)\n",
      "    11089    0.006    0.000    0.006    0.000 /home/tom/anaconda3/lib/python3.8/site-packages/numpy/core/fromnumeric.py:71(<dictcomp>)\n",
      "      108    0.003    0.000    0.008    0.000 /home/tom/anaconda3/lib/python3.8/site-packages/numpy/core/function_base.py:23(linspace)\n",
      "    11064    0.002    0.000    0.002    0.000 {built-in method builtins.isinstance}\n",
      "      216    0.002    0.000    0.002    0.000 <ipython-input-2-e9e5e38e23a6>:53(_comp_arc_centre)\n",
      "    10908    0.002    0.000    0.002    0.000 /home/tom/anaconda3/lib/python3.8/site-packages/numpy/core/fromnumeric.py:2106(_sum_dispatcher)\n",
      "      108    0.002    0.000    0.463    0.004 <ipython-input-6-0ef0b87da514>:1(min_func)\n",
      "    11089    0.002    0.000    0.002    0.000 {method 'items' of 'dict' objects}\n",
      "       36    0.001    0.000    0.313    0.009 /home/tom/anaconda3/lib/python3.8/site-packages/scipy/optimize/_numdiff.py:547(_dense_difference)\n",
      "       36    0.001    0.000    0.002    0.000 /home/tom/anaconda3/lib/python3.8/site-packages/scipy/optimize/_numdiff.py:11(_adjust_scheme_to_bounds)\n",
      "       36    0.001    0.000    0.319    0.009 /home/tom/anaconda3/lib/python3.8/site-packages/scipy/optimize/_numdiff.py:257(approx_derivative)\n",
      "      216    0.001    0.000    0.005    0.000 <ipython-input-2-e9e5e38e23a6>:91(_create_arc_param)\n",
      "        1    0.001    0.001    0.475    0.475 /home/tom/anaconda3/lib/python3.8/site-packages/scipy/optimize/lbfgsb.py:210(_minimize_lbfgsb)\n",
      "      216    0.001    0.000    0.001    0.000 <ipython-input-2-e9e5e38e23a6>:64(_comp_arc_angles)\n",
      "      108    0.001    0.000    0.004    0.000 <ipython-input-2-e9e5e38e23a6>:142(update_R_mid)\n",
      "      180    0.001    0.000    0.001    0.000 /home/tom/anaconda3/lib/python3.8/site-packages/numpy/core/shape_base.py:24(atleast_1d)\n",
      "      108    0.001    0.000    0.003    0.000 <ipython-input-2-e9e5e38e23a6>:133(update_R_right)\n",
      "      219    0.000    0.000    0.000    0.000 {method 'reshape' of 'numpy.ndarray' objects}\n",
      "      252    0.000    0.000    0.000    0.000 {method 'copy' of 'numpy.ndarray' objects}\n",
      "      108    0.000    0.000    0.000    0.000 {built-in method numpy.arange}\n",
      "      180    0.000    0.000    0.000    0.000 {method 'astype' of 'numpy.ndarray' objects}\n",
      "      108    0.000    0.000    0.001    0.000 {method 'any' of 'numpy.generic' objects}\n",
      "       36    0.000    0.000    0.000    0.000 /home/tom/anaconda3/lib/python3.8/site-packages/numpy/lib/twodim_base.py:229(diag)\n",
      "       72    0.000    0.000    0.311    0.004 /home/tom/anaconda3/lib/python3.8/site-packages/scipy/optimize/_numdiff.py:436(fun_wrapped)\n",
      "      155    0.000    0.000    0.000    0.000 {built-in method numpy.zeros}\n",
      "      108    0.000    0.000    0.463    0.004 /home/tom/anaconda3/lib/python3.8/site-packages/scipy/optimize/_differentiable_functions.py:128(fun_wrapped)\n",
      "       36    0.000    0.000    0.319    0.009 /home/tom/anaconda3/lib/python3.8/site-packages/scipy/optimize/_differentiable_functions.py:148(update_grad)\n",
      "      216    0.000    0.000    0.000    0.000 /home/tom/anaconda3/lib/python3.8/site-packages/numpy/core/numerictypes.py:285(issubclass_)\n",
      "      108    0.000    0.000    0.001    0.000 /home/tom/anaconda3/lib/python3.8/site-packages/numpy/core/numerictypes.py:359(issubdtype)\n",
      "      145    0.000    0.000    0.002    0.000 /home/tom/anaconda3/lib/python3.8/site-packages/numpy/core/fromnumeric.py:2256(any)\n",
      "       37    0.000    0.000    0.001    0.000 /home/tom/anaconda3/lib/python3.8/site-packages/numpy/core/numeric.py:2392(array_equal)\n",
      "      469    0.000    0.000    0.001    0.000 /home/tom/anaconda3/lib/python3.8/site-packages/numpy/core/_asarray.py:110(asanyarray)\n",
      "       37    0.000    0.000    0.436    0.012 /home/tom/anaconda3/lib/python3.8/site-packages/scipy/optimize/_differentiable_functions.py:257(fun_and_grad)\n",
      "      180    0.000    0.000    0.002    0.000 <__array_function__ internals>:2(atleast_1d)\n",
      "      145    0.000    0.000    0.003    0.000 <__array_function__ internals>:2(any)\n",
      "      324    0.000    0.000    0.000    0.000 {built-in method builtins.issubclass}\n",
      "      144    0.000    0.000    0.000    0.000 <__array_function__ internals>:2(empty_like)\n",
      "      114    0.000    0.000    0.000    0.000 <__array_function__ internals>:2(ndim)\n",
      "       64    0.000    0.000    0.000    0.000 {method 'startswith' of 'bytes' objects}\n",
      "      108    0.000    0.000    0.001    0.000 <__array_function__ internals>:2(result_type)\n",
      "      108    0.000    0.000    0.009    0.000 <__array_function__ internals>:2(linspace)\n",
      "       35    0.000    0.000    0.000    0.000 /home/tom/anaconda3/lib/python3.8/site-packages/scipy/optimize/_differentiable_functions.py:217(update_x)\n",
      "       36    0.000    0.000    0.000    0.000 /home/tom/anaconda3/lib/python3.8/site-packages/numpy/core/numeric.py:217(ones_like)\n",
      "       36    0.000    0.000    0.000    0.000 /home/tom/anaconda3/lib/python3.8/site-packages/numpy/core/fromnumeric.py:1716(ravel)\n",
      "      216    0.000    0.000    0.000    0.000 <ipython-input-2-e9e5e38e23a6>:80(_comp_arc_refr_ind)\n",
      "      114    0.000    0.000    0.000    0.000 /home/tom/anaconda3/lib/python3.8/site-packages/numpy/core/fromnumeric.py:3106(ndim)\n",
      "        2    0.000    0.000    0.000    0.000 {built-in method builtins.compile}\n",
      "      190    0.000    0.000    0.000    0.000 /home/tom/anaconda3/lib/python3.8/site-packages/numpy/core/_asarray.py:23(asarray)\n",
      "      109    0.000    0.000    0.001    0.000 /home/tom/anaconda3/lib/python3.8/site-packages/numpy/core/_methods.py:53(_any)\n",
      "      216    0.000    0.000    0.000    0.000 {method 'update_start_end' of 'tracing._PySpherical' objects}\n",
      "      114    0.000    0.000    0.000    0.000 {built-in method builtins.getattr}\n",
      "       74    0.000    0.000    0.153    0.002 /home/tom/anaconda3/lib/python3.8/site-packages/scipy/optimize/_differentiable_functions.py:224(_update_fun)\n",
      "       36    0.000    0.000    0.000    0.000 /home/tom/anaconda3/lib/python3.8/site-packages/scipy/optimize/_numdiff.py:186(<listcomp>)\n",
      "       36    0.000    0.000    0.153    0.004 /home/tom/anaconda3/lib/python3.8/site-packages/scipy/optimize/_differentiable_functions.py:132(update_fun)\n",
      "       38    0.000    0.000    0.319    0.008 /home/tom/anaconda3/lib/python3.8/site-packages/scipy/optimize/_differentiable_functions.py:229(_update_grad)\n",
      "      108    0.000    0.000    0.000    0.000 /home/tom/anaconda3/lib/python3.8/site-packages/numpy/core/numeric.py:1865(isscalar)\n",
      "       51    0.000    0.000    0.000    0.000 {method 'tobytes' of 'numpy.ndarray' objects}\n",
      "       36    0.000    0.000    0.000    0.000 <__array_function__ internals>:2(ravel)\n",
      "       37    0.000    0.000    0.001    0.000 <__array_function__ internals>:2(array_equal)\n",
      "       36    0.000    0.000    0.000    0.000 <__array_function__ internals>:2(ones_like)\n",
      "       36    0.000    0.000    0.000    0.000 /home/tom/anaconda3/lib/python3.8/site-packages/numpy/core/fromnumeric.py:2355(all)\n",
      "      181    0.000    0.000    0.000    0.000 {method 'append' of 'list' objects}\n",
      "       36    0.000    0.000    0.000    0.000 /home/tom/anaconda3/lib/python3.8/site-packages/scipy/optimize/_numdiff.py:175(_prepare_bounds)\n",
      "       36    0.000    0.000    0.000    0.000 <__array_function__ internals>:2(where)\n",
      "       37    0.000    0.000    0.000    0.000 {method 'all' of 'numpy.ndarray' objects}\n",
      "       37    0.000    0.000    0.000    0.000 {method 'ravel' of 'numpy.ndarray' objects}\n",
      "       36    0.000    0.000    0.000    0.000 <__array_function__ internals>:2(all)\n",
      "      218    0.000    0.000    0.000    0.000 {built-in method builtins.len}\n",
      "        1    0.000    0.000    0.038    0.038 /home/tom/anaconda3/lib/python3.8/site-packages/scipy/optimize/_differentiable_functions.py:86(__init__)\n",
      "       36    0.000    0.000    0.000    0.000 <__array_function__ internals>:2(copyto)\n",
      "       36    0.000    0.000    0.001    0.000 <__array_function__ internals>:2(diag)\n",
      "        1    0.000    0.000    0.475    0.475 /home/tom/anaconda3/lib/python3.8/site-packages/scipy/optimize/_minimize.py:45(minimize)\n",
      "       36    0.000    0.000    0.000    0.000 {built-in method numpy.empty}\n",
      "      145    0.000    0.000    0.000    0.000 /home/tom/anaconda3/lib/python3.8/site-packages/numpy/core/fromnumeric.py:2251(_any_dispatcher)\n",
      "      110    0.000    0.000    0.000    0.000 {built-in method _operator.index}\n",
      "      180    0.000    0.000    0.000    0.000 /home/tom/anaconda3/lib/python3.8/site-packages/numpy/core/shape_base.py:20(_atleast_1d_dispatcher)\n",
      "      144    0.000    0.000    0.000    0.000 /home/tom/anaconda3/lib/python3.8/site-packages/numpy/core/multiarray.py:75(empty_like)\n",
      "       37    0.000    0.000    0.000    0.000 /home/tom/anaconda3/lib/python3.8/site-packages/numpy/core/_methods.py:59(_all)\n",
      "      108    0.000    0.000    0.000    0.000 /home/tom/anaconda3/lib/python3.8/site-packages/numpy/core/function_base.py:18(_linspace_dispatcher)\n",
      "      114    0.000    0.000    0.000    0.000 /home/tom/anaconda3/lib/python3.8/site-packages/numpy/core/fromnumeric.py:3102(_ndim_dispatcher)\n",
      "      108    0.000    0.000    0.000    0.000 /home/tom/anaconda3/lib/python3.8/site-packages/numpy/core/multiarray.py:644(result_type)\n",
      "        2    0.000    0.000    0.475    0.238 /home/tom/anaconda3/lib/python3.8/site-packages/IPython/core/interactiveshell.py:3400(run_code)\n",
      "        2    0.000    0.000    0.000    0.000 /home/tom/anaconda3/lib/python3.8/site-packages/numpy/core/_methods.py:90(_clip_dep_is_scalar_nan)\n",
      "       37    0.000    0.000    0.000    0.000 /home/tom/anaconda3/lib/python3.8/site-packages/numpy/core/numeric.py:2388(_array_equal_dispatcher)\n",
      "        1    0.000    0.000    0.000    0.000 /home/tom/anaconda3/lib/python3.8/site-packages/numpy/core/_methods.py:105(_clip_dep_invoke_with_casting)\n",
      "        1    0.000    0.000    0.000    0.000 /home/tom/anaconda3/lib/python3.8/site-packages/scipy/optimize/lbfgsb.py:428(__init__)\n",
      "        2    0.000    0.000    0.000    0.000 /home/tom/anaconda3/lib/python3.8/codeop.py:142(__call__)\n",
      "       36    0.000    0.000    0.000    0.000 /home/tom/anaconda3/lib/python3.8/site-packages/numpy/core/fromnumeric.py:1712(_ravel_dispatcher)\n",
      "       36    0.000    0.000    0.000    0.000 {built-in method builtins.abs}\n",
      "       36    0.000    0.000    0.000    0.000 /home/tom/anaconda3/lib/python3.8/site-packages/numpy/core/multiarray.py:321(where)\n",
      "        1    0.000    0.000    0.000    0.000 /home/tom/anaconda3/lib/python3.8/site-packages/numpy/core/shape_base.py:82(atleast_2d)\n",
      "        1    0.000    0.000    0.038    0.038 /home/tom/anaconda3/lib/python3.8/site-packages/scipy/optimize/optimize.py:173(_prepare_scalar_function)\n",
      "        1    0.000    0.000    0.000    0.000 /home/tom/anaconda3/lib/python3.8/site-packages/numpy/core/_methods.py:124(_clip)\n",
      "       36    0.000    0.000    0.000    0.000 /home/tom/anaconda3/lib/python3.8/site-packages/numpy/core/numeric.py:213(_ones_like_dispatcher)\n",
      "        1    0.000    0.000    0.000    0.000 /home/tom/anaconda3/lib/python3.8/site-packages/scipy/optimize/_constraints.py:314(old_bound_to_new)\n",
      "        1    0.000    0.000    0.000    0.000 {built-in method numpy.core._multiarray_umath.c_einsum}\n",
      "       36    0.000    0.000    0.000    0.000 /home/tom/anaconda3/lib/python3.8/site-packages/numpy/core/multiarray.py:1054(copyto)\n",
      "       36    0.000    0.000    0.000    0.000 /home/tom/anaconda3/lib/python3.8/site-packages/numpy/lib/twodim_base.py:225(_diag_dispatcher)\n",
      "        1    0.000    0.000    0.000    0.000 {built-in method builtins.min}\n",
      "       36    0.000    0.000    0.000    0.000 /home/tom/anaconda3/lib/python3.8/site-packages/numpy/core/fromnumeric.py:2350(_all_dispatcher)\n",
      "        1    0.000    0.000    0.000    0.000 /home/tom/anaconda3/lib/python3.8/site-packages/scipy/sparse/linalg/interface.py:142(__new__)\n",
      "        2    0.000    0.000    0.000    0.000 /home/tom/anaconda3/lib/python3.8/contextlib.py:82(__init__)\n",
      "        4    0.000    0.000    0.000    0.000 /home/tom/anaconda3/lib/python3.8/site-packages/IPython/core/compilerop.py:166(extra_flags)\n",
      "        1    0.000    0.000    0.000    0.000 /home/tom/anaconda3/lib/python3.8/site-packages/scipy/optimize/_minimize.py:819(standardize_constraints)\n",
      "        1    0.000    0.000    0.475    0.475 <ipython-input-16-84c22b4c4b38>:3(<module>)\n",
      "        2    0.000    0.000    0.000    0.000 /home/tom/anaconda3/lib/python3.8/contextlib.py:108(__enter__)\n",
      "        1    0.000    0.000    0.000    0.000 /home/tom/anaconda3/lib/python3.8/site-packages/numpy/core/getlimits.py:382(__new__)\n",
      "        2    0.000    0.000    0.000    0.000 /home/tom/anaconda3/lib/python3.8/contextlib.py:117(__exit__)\n",
      "        2    0.000    0.000    0.000    0.000 /home/tom/anaconda3/lib/python3.8/site-packages/IPython/core/hooks.py:103(__call__)\n",
      "        2    0.000    0.000    0.000    0.000 /home/tom/anaconda3/lib/python3.8/contextlib.py:238(helper)\n",
      "        1    0.000    0.000    0.000    0.000 <__array_function__ internals>:2(atleast_2d)\n",
      "        1    0.000    0.000    0.000    0.000 /home/tom/anaconda3/lib/python3.8/site-packages/scipy/optimize/lbfgsb.py:287(<listcomp>)\n",
      "        1    0.000    0.000    0.000    0.000 /home/tom/anaconda3/lib/python3.8/site-packages/scipy/sparse/linalg/interface.py:157(__init__)\n",
      "        1    0.000    0.000    0.000    0.000 /home/tom/anaconda3/lib/python3.8/site-packages/numpy/core/fromnumeric.py:2044(clip)\n",
      "        2    0.000    0.000    0.000    0.000 /home/tom/anaconda3/lib/python3.8/site-packages/numpy/core/_methods.py:100(_clip_dep_is_byte_swapped)\n",
      "        1    0.000    0.000    0.000    0.000 /home/tom/anaconda3/lib/python3.8/site-packages/numpy/core/fromnumeric.py:52(_wrapfunc)\n",
      "        4    0.000    0.000    0.000    0.000 {built-in method builtins.next}\n",
      "        1    0.000    0.000    0.000    0.000 /home/tom/anaconda3/lib/python3.8/site-packages/scipy/optimize/_constraints.py:327(<listcomp>)\n",
      "        2    0.000    0.000    0.000    0.000 /home/tom/anaconda3/lib/python3.8/site-packages/traitlets/traitlets.py:564(__get__)\n",
      "        1    0.000    0.000    0.000    0.000 <ipython-input-16-84c22b4c4b38>:4(<module>)\n",
      "        2    0.000    0.000    0.000    0.000 /home/tom/anaconda3/lib/python3.8/site-packages/scipy/sparse/sputils.py:198(isintlike)\n",
      "        2    0.000    0.000    0.000    0.000 /home/tom/anaconda3/lib/python3.8/site-packages/IPython/core/interactiveshell.py:3338(compare)\n",
      "        1    0.000    0.000    0.000    0.000 {method 'any' of 'numpy.ndarray' objects}\n",
      "        7    0.000    0.000    0.000    0.000 {built-in method builtins.callable}\n",
      "        1    0.000    0.000    0.000    0.000 {method 'clip' of 'numpy.ndarray' objects}\n",
      "        4    0.000    0.000    0.000    0.000 /home/tom/anaconda3/lib/python3.8/site-packages/scipy/optimize/_constraints.py:12(_arr_to_scalar)\n",
      "        1    0.000    0.000    0.000    0.000 /home/tom/anaconda3/lib/python3.8/site-packages/scipy/sparse/sputils.py:220(isshape)\n",
      "        1    0.000    0.000    0.000    0.000 <__array_function__ internals>:2(clip)\n",
      "        2    0.000    0.000    0.475    0.238 {built-in method builtins.exec}\n",
      "        1    0.000    0.000    0.000    0.000 /home/tom/anaconda3/lib/python3.8/site-packages/scipy/sparse/base.py:1205(isspmatrix)\n",
      "        1    0.000    0.000    0.000    0.000 /home/tom/anaconda3/lib/python3.8/site-packages/numpy/core/einsumfunc.py:997(einsum)\n",
      "        1    0.000    0.000    0.000    0.000 /home/tom/anaconda3/lib/python3.8/site-packages/scipy/optimize/_minimize.py:807(standardize_bounds)\n",
      "        2    0.000    0.000    0.000    0.000 /home/tom/anaconda3/lib/python3.8/site-packages/traitlets/traitlets.py:533(get)\n",
      "        2    0.000    0.000    0.000    0.000 /home/tom/anaconda3/lib/python3.8/site-packages/IPython/utils/ipstruct.py:125(__getattr__)\n",
      "        1    0.000    0.000    0.000    0.000 /home/tom/anaconda3/lib/python3.8/site-packages/scipy/optimize/_constraints.py:329(<listcomp>)\n",
      "        1    0.000    0.000    0.000    0.000 <__array_function__ internals>:2(einsum)\n",
      "        2    0.000    0.000    0.000    0.000 {method 'get' of 'dict' objects}\n",
      "        5    0.000    0.000    0.000    0.000 /home/tom/anaconda3/lib/python3.8/site-packages/numpy/core/einsumfunc.py:989(_einsum_dispatcher)\n",
      "        2    0.000    0.000    0.000    0.000 /home/tom/anaconda3/lib/python3.8/site-packages/IPython/core/interactiveshell.py:1278(user_global_ns)\n",
      "        2    0.000    0.000    0.000    0.000 {method 'strip' of 'bytes' objects}\n",
      "        1    0.000    0.000    0.000    0.000 {built-in method __new__ of type object at 0x55e6a25989a0}\n",
      "        1    0.000    0.000    0.000    0.000 {method 'decode' of 'bytes' objects}\n",
      "        1    0.000    0.000    0.000    0.000 {method 'lower' of 'str' objects}\n",
      "        1    0.000    0.000    0.000    0.000 /home/tom/anaconda3/lib/python3.8/site-packages/scipy/optimize/optimize.py:253(hess)\n",
      "        2    0.000    0.000    0.000    0.000 /home/tom/anaconda3/lib/python3.8/site-packages/IPython/core/hooks.py:168(pre_run_code_hook)\n",
      "        1    0.000    0.000    0.000    0.000 /home/tom/anaconda3/lib/python3.8/site-packages/scipy/optimize/optimize.py:145(_check_unknown_options)\n",
      "        1    0.000    0.000    0.000    0.000 /home/tom/anaconda3/lib/python3.8/site-packages/numpy/core/shape_base.py:78(_atleast_2d_dispatcher)\n",
      "        1    0.000    0.000    0.000    0.000 /home/tom/anaconda3/lib/python3.8/site-packages/numpy/core/fromnumeric.py:2040(_clip_dispatcher)\n",
      "        1    0.000    0.000    0.000    0.000 {method 'disable' of '_lsprof.Profiler' objects}\n",
      "\n",
      "\n"
     ]
    },
    {
     "data": {
      "text/plain": [
       "<pstats.Stats at 0x7feb3478bdc0>"
      ]
     },
     "execution_count": 16,
     "metadata": {},
     "output_type": "execute_result"
    }
   ],
   "source": [
    "profiler = cProfile.Profile()\n",
    "profiler.enable()\n",
    "minimize(min_func, x0, bounds=((24, 100), (21, 120)))\n",
    "profiler.disable()\n",
    "\n",
    "stats = pstats.Stats(profiler).sort_stats('tottime')\n",
    "stats.print_stats()"
   ]
  },
  {
   "cell_type": "code",
   "execution_count": 59,
   "metadata": {},
   "outputs": [
    {
     "name": "stdout",
     "output_type": "stream",
     "text": [
      "25.7 µs ± 914 ns per loop (mean ± std. dev. of 7 runs, 10000 loops each)\n"
     ]
    }
   ],
   "source": [
    "%%timeit\n",
    "r = PyRay(np.array([-5.0, 0.5]), np.array([1.0, 0.0]))\n",
    "\n",
    "PyTrace([doub], [r], n=20)"
   ]
  },
  {
   "cell_type": "code",
   "execution_count": 19,
   "metadata": {},
   "outputs": [],
   "source": [
    "from tracing import PyMirror_Sph"
   ]
  },
  {
   "cell_type": "code",
   "execution_count": 52,
   "metadata": {},
   "outputs": [],
   "source": [
    "m = PyMirror_Sph(np.zeros(2), 10, 0.0, 2*np.pi)\n",
    "\n",
    "N = 100\n",
    "\n",
    "comps = [PyMirror_Sph(np.zeros(2), 10, i*2*np.pi/N, (i+1)*2*np.pi/N) for i in range(N)]\n",
    "\n"
   ]
  },
  {
   "cell_type": "code",
   "execution_count": 60,
   "metadata": {},
   "outputs": [
    {
     "name": "stdout",
     "output_type": "stream",
     "text": [
      "1.02 ms ± 9.99 µs per loop (mean ± std. dev. of 7 runs, 1000 loops each)\n"
     ]
    }
   ],
   "source": [
    "%%timeit\n",
    "# creation of PyRay takes about 2.5 microseconds\n",
    "r = PyRay(np.array([-5.0, 0.5]), np.array([1.0, 0.0]))\n",
    "\n",
    "PyTrace(comps, [r], n=20)"
   ]
  },
  {
   "cell_type": "code",
   "execution_count": null,
   "metadata": {},
   "outputs": [],
   "source": []
  }
 ],
 "metadata": {
  "interpreter": {
   "hash": "6bb592209296cd01c15104ad459fec7efda459241065ece1923d14d5c00ced46"
  },
  "kernelspec": {
   "display_name": "Python 3",
   "language": "python",
   "name": "python3"
  },
  "language_info": {
   "codemirror_mode": {
    "name": "ipython",
    "version": 3
   },
   "file_extension": ".py",
   "mimetype": "text/x-python",
   "name": "python",
   "nbconvert_exporter": "python",
   "pygments_lexer": "ipython3",
   "version": "3.8.11"
  }
 },
 "nbformat": 4,
 "nbformat_minor": 4
}
