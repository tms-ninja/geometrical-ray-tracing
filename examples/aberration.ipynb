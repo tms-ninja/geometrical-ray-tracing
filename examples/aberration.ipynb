{
 "cells": [
  {
   "cell_type": "markdown",
   "metadata": {},
   "source": [
    "# Abberation\n",
    "Looks at modelling an achromatic lens and optimises it for a given focal length."
   ]
  },
  {
   "cell_type": "code",
   "execution_count": 1,
   "metadata": {
    "tags": []
   },
   "outputs": [],
   "source": [
    "%matplotlib widget\n",
    "import numpy as np\n",
    "import matplotlib as mpl\n",
    "import matplotlib.pyplot as plt\n",
    "from ipywidgets import *\n",
    "from IPython.display import display\n",
    "\n",
    "from tracing import PyTrace, PyRay, PyRefract_Plane, PyRefract_Sph, PyCC_Wrap\n",
    "\n",
    "plt.style.use('dark_background')\n",
    "\n",
    "mpl.rcParams['mathtext.fontset'] = 'stix'\n",
    "mpl.rcParams['font.family'] = 'STIXGeneral'\n",
    "mpl.rc('font', size=14)"
   ]
  },
  {
   "cell_type": "code",
   "execution_count": 2,
   "metadata": {
    "jupyter": {
     "source_hidden": true
    },
    "tags": []
   },
   "outputs": [],
   "source": [
    "class Doublet(PyCC_Wrap):\n",
    "    def __init__(self, wavelength) -> None:\n",
    "        comps = []\n",
    "\n",
    "        # Good \n",
    "        # R_left = 60.0\n",
    "        # R_mid = 32.0\n",
    "        # R_right = 85.0\n",
    "\n",
    "        R_left = 60.0\n",
    "        R_mid = 32.0\n",
    "        R_right = 85.0\n",
    "\n",
    "        centre = np.zeros(2)\n",
    "        R_lens = 20.0\n",
    "        self._R_lens = R_lens\n",
    "        d = 0.0\n",
    "\n",
    "        # sellmeier Eq coefficients of first and second parts\n",
    "        # C parameters are in units micrometers^2\n",
    "        # First is BK7 crown glass\n",
    "        self._left_refr_param = {\n",
    "            'B': np.array([1.03961212, 0.231792344, 1.01046945]),\n",
    "            'C': np.array([6.00069867e-3, 2.00179144e-2, 103.560653])\n",
    "        }\n",
    "\n",
    "        # SF2 Flint glass https://refractiveindex.info/?shelf=glass&book=SCHOTT-SF&page=SF2\n",
    "        self._right_refr_param = {\n",
    "            'B': np.array([1.40301821, 0.231767504, 0.939056586]),\n",
    "            'C': np.array([0.0105795466, 0.0493226978, 112.405955])\n",
    "        }\n",
    "\n",
    "        n1 = self.sellmeier_eq(wavelength, **self._left_refr_param)\n",
    "        n2 = self.sellmeier_eq(wavelength, **self._right_refr_param)\n",
    "\n",
    "        # left arc      \n",
    "        param = self._create_arc_param(True, centre, R_lens, R_left, R_left, d, n1, n_out=1.0)\n",
    "        self._left_arc = PyRefract_Sph(**param)\n",
    "        comps.append(self._left_arc)\n",
    "\n",
    "        # Middle arc\n",
    "        param = self._create_arc_param(False, centre, R_lens, R_mid, R_mid, d, n1, n_out=n2)\n",
    "        self._middle_arc = PyRefract_Sph(**param)\n",
    "        comps.append(self._middle_arc)\n",
    "\n",
    "        param = self._create_arc_param(False, np.array([10.0, 0.0]), R_lens, R_right, R_right, d, n2, n_out=1.0)\n",
    "        self._right_arc = PyRefract_Sph(**param)\n",
    "\n",
    "        comps.append(self._right_arc)\n",
    "\n",
    "        super().__init__(comps)\n",
    "\n",
    "    def _comp_arc_centre(self, left, lens_centre, R_lens, R1, R2, d, n_in, n_out):\n",
    "        \"\"\"Returns the centre of the arc\"\"\"\n",
    "        ans = lens_centre.copy()\n",
    "\n",
    "        R = R1 if left else R2\n",
    "        lft = 1 if left else -1\n",
    "\n",
    "        ans[0] += lft *( np.sign(R) * np.sqrt(R**2 - R_lens**2) - d/2)\n",
    "\n",
    "        return ans\n",
    "\n",
    "    def _comp_arc_angles(self, left, lens_centre, R_lens, R1, R2, d, n_in, n_out):\n",
    "        \"\"\"Returns the angles of the arc\"\"\"\n",
    "\n",
    "        R = R1 if left else R2\n",
    "        lft = 1 if left else -1\n",
    "\n",
    "        ang = np.arcsin(np.abs(R_lens / R))\n",
    "\n",
    "        start, end = -ang, ang\n",
    "\n",
    "        if lft * R >= R_lens:\n",
    "            start += np.pi\n",
    "            end += np.pi\n",
    "\n",
    "        return (start, end)\n",
    "\n",
    "    def _comp_arc_refr_ind(self, left, lens_centre, R_lens, R1, R2, d, n_in, n_out):\n",
    "        \"\"\"Returns refractive indices n_in and n_out\"\"\"\n",
    "\n",
    "        R = R1 if left else R2\n",
    "\n",
    "        # Convex arc\n",
    "        if R >= R_lens:\n",
    "            return (n_in, n_out)\n",
    "\n",
    "        return (n_out, n_in)\n",
    "\n",
    "    def _create_arc_param(self, left, lens_centre, R_lens, R1, R2, d, n_in, n_out):\n",
    "        \"\"\"Returns a dictionary of params for creating the left arc\"\"\"\n",
    "\n",
    "        param = dict()\n",
    "\n",
    "        param['centre'] = self._comp_arc_centre(left, lens_centre, R_lens, R1, R2, d, n_in, n_out)\n",
    "\n",
    "        param['R'] = np.abs(R1 if left else R2)\n",
    "\n",
    "        param[\"start\"], param['end'] = self._comp_arc_angles(left, lens_centre, R_lens, R1, R2, d, n_in, n_out)\n",
    "\n",
    "        param['n_in'], param['n_out'] = self._comp_arc_refr_ind(left, lens_centre, R_lens, R1, R2, d, n_in, n_out)\n",
    "\n",
    "        return param\n",
    "\n",
    "    def sellmeier_eq(self, lamd, B, C):\n",
    "        \"\"\"\n",
    "        Computes the refractive index using the Sellmeier equation.\n",
    "        C should use units of micrometers^2\n",
    "        \"\"\"\n",
    "        lsq = lamd**2\n",
    "\n",
    "        total = 1.0 + np.sum(B*lsq/(lsq-C))\n",
    "\n",
    "        return np.sqrt(total)\n",
    "\n",
    "    def update_refr_ind(self, new_wavelength):\n",
    "        \"\"\"Updates the refractive index \"\"\"\n",
    "\n",
    "        n1 = self.sellmeier_eq(new_wavelength, **self._left_refr_param)\n",
    "        n2 = self.sellmeier_eq(new_wavelength, **self._right_refr_param)\n",
    "\n",
    "        # left arc\n",
    "        self._left_arc.n_in = n1\n",
    "\n",
    "        # right arc\n",
    "        self._middle_arc.n_in = n1\n",
    "        self._middle_arc.n_out = n2\n",
    "\n",
    "        # Right arc\n",
    "        self._right_arc.n_in = n2\n",
    "\n",
    "    def update_R_right(self, new_r):\n",
    "        \"\"\"Updates the radius of curvature on the right\"\"\"\n",
    "\n",
    "        param = self._create_arc_param(False, np.array([10.0, 0.0]), self._R_lens, new_r, new_r, 0.0, 1.0, 1.0)\n",
    "\n",
    "        self._right_arc.centre = param['centre']\n",
    "        self._right_arc.R = param['R']\n",
    "        self._right_arc.update_start_end(param['start'], param['end'])\n",
    "        \n",
    "    def update_R_mid(self, new_r):\n",
    "        param = self._create_arc_param(False, np.zeros(2), self._R_lens, new_r, new_r, 0.0, 1.0, 1.0)\n",
    "\n",
    "        self._middle_arc.centre = param['centre']\n",
    "        self._middle_arc.R = param['R']\n",
    "        self._middle_arc.update_start_end(param['start'], param['end'])"
   ]
  },
  {
   "cell_type": "code",
   "execution_count": 3,
   "metadata": {
    "jupyter": {
     "source_hidden": true
    },
    "tags": []
   },
   "outputs": [],
   "source": [
    "# This is useful as the plotting routine returns a nested list with the leaves\n",
    "# corresponding to the plotting data\n",
    "def crawl(lst):\n",
    "    \"\"\"Crawls a nested list and yields none-list items\"\"\"\n",
    "    \n",
    "    if isinstance(lst, list):  # If lst is a list, we want to crawl its elements\n",
    "        for elem in lst:\n",
    "            yield from crawl(elem)\n",
    "    else:\n",
    "        yield lst\n",
    "\n",
    "def extend_to_axis(pos):\n",
    "    \"\"\"Extends the as position of the ray so last point is on axis\"\"\"\n",
    "\n",
    "    ans = pos.copy()\n",
    "\n",
    "    grad = np.gradient(pos[-2:, 1], pos[-2:, 0])[0]\n",
    "\n",
    "    # x_intercept = x_1 - y_1/grad\n",
    "    ans[-1, 0] = pos[-2, 0] - pos[-2, 1] / grad\n",
    "    ans[-1, 1] = 0.0\n",
    "\n",
    "    return ans\n"
   ]
  },
  {
   "cell_type": "code",
   "execution_count": 4,
   "metadata": {
    "jupyter": {
     "source_hidden": true
    },
    "tags": []
   },
   "outputs": [],
   "source": [
    "doub = Doublet(0.5)\n",
    "\n",
    "def plot(y, wavelengths):\n",
    "    \"\"\"Computes focal point for a ray at y\"\"\"\n",
    "\n",
    "    sol = np.empty_like(wavelengths)\n",
    "    \n",
    "    for ind, w in enumerate(wavelengths):\n",
    "        doub.update_refr_ind(w)\n",
    "\n",
    "        r = PyRay(np.array([-5.0, y]), np.array([1.0, 0.0]))\n",
    "\n",
    "        PyTrace([doub], [r], n=4)\n",
    "\n",
    "        # Add position data\n",
    "        pos = r.plot()\n",
    "        \n",
    "        #grad = np.gradient(pos[-2:, 1], pos[-2:, 0])[0]\n",
    "        x1, y1 = pos[-2]\n",
    "        x2, y2 = pos[-1]\n",
    "        \n",
    "        grad = (y2-y1) / (x2-x1)\n",
    "\n",
    "        sol[ind] = x1 - y1 / grad\n",
    "\n",
    "    return sol\n"
   ]
  },
  {
   "cell_type": "code",
   "execution_count": 16,
   "metadata": {
    "tags": []
   },
   "outputs": [
    {
     "data": {
      "application/vnd.jupyter.widget-view+json": {
       "model_id": "0983e9ec21754385876a46cc54adb611",
       "version_major": 2,
       "version_minor": 0
      },
      "text/plain": [
       "Canvas(toolbar=Toolbar(toolitems=[('Home', 'Reset original view', 'home', 'home'), ('Back', 'Back to previous …"
      ]
     },
     "metadata": {},
     "output_type": "display_data"
    },
    {
     "data": {
      "application/vnd.jupyter.widget-view+json": {
       "model_id": "176a5ce9a67746b99b0ccaa4b347786d",
       "version_major": 2,
       "version_minor": 0
      },
      "text/plain": [
       "interactive(children=(FloatSlider(value=0.5, description='y', max=19.0, min=0.1, step=0.2), IntSlider(value=85…"
      ]
     },
     "metadata": {},
     "output_type": "display_data"
    }
   ],
   "source": [
    "# Plotting\n",
    "fig, (ax1, ax2) = plt.subplots(1, 2)\n",
    "ax1.set_aspect('equal')\n",
    "ax1.set_xlabel(\"$\\mathrm{Lens} \\, x \\, (\\mathrm{mm})$\")\n",
    "ax1.set_ylabel(\"$\\mathrm{Lens} \\, y \\, (\\mathrm{mm})$\")\n",
    "\n",
    "comp_lines = []\n",
    "\n",
    "# Plot components\n",
    "for sub_comp in crawl(doub.plot()):\n",
    "    c_x, c_y = sub_comp.T\n",
    "\n",
    "    line, = ax1.plot(c_x, c_y, color=\"C0\")\n",
    "\n",
    "    comp_lines.append(line)\n",
    "        \n",
    "# Plot focus\n",
    "wav = np.linspace(0.4, 0.7, 50)\n",
    "\n",
    "focus = plot(5, wav)\n",
    "focus_line, = ax2.plot(wav, focus)\n",
    "\n",
    "ax2.set_xlabel(\"$\\mathrm{Wavelength} \\, (\\mathrm{\\mu m})$\")\n",
    "ax2.set_ylabel(\"$\\mathrm{Focal} \\, \\mathrm{distance} \\, (\\mathrm{mm})$\")\n",
    "\n",
    "def event_handler(y, R_mid, R_right):\n",
    "    \n",
    "    doub.update_R_mid(R_mid)\n",
    "    doub.update_R_right(R_right)\n",
    "    \n",
    "    # Update lens shape first\n",
    "    for sub_comp, line in zip(crawl(doub.plot()), comp_lines):\n",
    "        c_x, c_y = sub_comp.T\n",
    "\n",
    "        line.set_xdata(c_x)\n",
    "        line.set_ydata(c_y)\n",
    "        \n",
    "        \n",
    "    ax1.relim()\n",
    "    ax1.autoscale_view()\n",
    "    \n",
    "    # Update the focus point \n",
    "    new_data = plot(y=y, wavelengths=wav)\n",
    "\n",
    "    focus_line.set_ydata(new_data)\n",
    "    \n",
    "    ax2.relim()\n",
    "    ax2.autoscale_view()\n",
    "    \n",
    "    fig.canvas.draw_idle()\n",
    "\n",
    "interact(event_handler, \n",
    "         y=widgets.FloatSlider(min=0.1, max=19.0, step=0.2, value=0.5),\n",
    "         R_mid=widgets.IntSlider(min=24, max=100, step=1, value=85),\n",
    "         R_right=widgets.IntSlider(min=21, max=120, step=1, value=85));"
   ]
  },
  {
   "cell_type": "markdown",
   "metadata": {},
   "source": [
    "## Optmisation\n",
    "Here we use Scipy.Optimize to achive a focal length of 100 mm. We consider a ray starting off 0.5 millimetres off axis. "
   ]
  },
  {
   "cell_type": "code",
   "execution_count": 6,
   "metadata": {},
   "outputs": [],
   "source": [
    "from scipy.optimize import minimize"
   ]
  },
  {
   "cell_type": "code",
   "execution_count": 7,
   "metadata": {},
   "outputs": [],
   "source": [
    "def min_func(x):\n",
    "    \"\"\"Minimisation function\"\"\"\n",
    "    \n",
    "    # variable arguments must be specified as a single parameter and unpacked\n",
    "    R_mid, R_right = x\n",
    "    \n",
    "    doub.update_R_mid(R_mid)\n",
    "    doub.update_R_right(R_right)\n",
    "    \n",
    "    y = 0.5\n",
    "    target = 100.0\n",
    "    \n",
    "    focus = plot(y=y, wavelengths=wav)\n",
    "    \n",
    "    return np.sum((focus - target)**2)"
   ]
  },
  {
   "cell_type": "code",
   "execution_count": 8,
   "metadata": {},
   "outputs": [],
   "source": [
    "# Let 24 <= R_mid <= 100 & 21 <= R_right <= 120 to avoid intersection\n",
    "x0 = np.array([30.0, 100.0])\n",
    "\n",
    "sol = minimize(min_func, x0, bounds=((24, 100), (21, 120)))"
   ]
  },
  {
   "cell_type": "code",
   "execution_count": 9,
   "metadata": {},
   "outputs": [
    {
     "data": {
      "text/plain": [
       "      fun: 0.22126326909232527\n",
       " hess_inv: <2x2 LbfgsInvHessProduct with dtype=float64>\n",
       "      jac: array([-3.30013767e-06, -5.26939934e-05])\n",
       "  message: 'CONVERGENCE: REL_REDUCTION_OF_F_<=_FACTR*EPSMCH'\n",
       "     nfev: 93\n",
       "      nit: 22\n",
       "     njev: 31\n",
       "   status: 0\n",
       "  success: True\n",
       "        x: array([ 38.97395726, 118.03435615])"
      ]
     },
     "execution_count": 9,
     "metadata": {},
     "output_type": "execute_result"
    }
   ],
   "source": [
    "sol"
   ]
  },
  {
   "cell_type": "markdown",
   "metadata": {},
   "source": [
    "The focal length for the optimised lens as a function of wavelength and the ray's distance from axis."
   ]
  },
  {
   "cell_type": "code",
   "execution_count": 10,
   "metadata": {},
   "outputs": [],
   "source": [
    "doub.update_R_mid(sol['x'][0])\n",
    "doub.update_R_right(sol['x'][1])"
   ]
  },
  {
   "cell_type": "code",
   "execution_count": 15,
   "metadata": {},
   "outputs": [
    {
     "data": {
      "application/vnd.jupyter.widget-view+json": {
       "model_id": "f070e96ec6e64024ace00292d33163c7",
       "version_major": 2,
       "version_minor": 0
      },
      "text/plain": [
       "Canvas(toolbar=Toolbar(toolitems=[('Home', 'Reset original view', 'home', 'home'), ('Back', 'Back to previous …"
      ]
     },
     "metadata": {},
     "output_type": "display_data"
    }
   ],
   "source": [
    "N_rays = 10\n",
    "\n",
    "y_vals = np.linspace(0.1, 10,N_rays)\n",
    "\n",
    "fig = plt.figure(figsize=(7, 5))\n",
    "\n",
    "norm = mpl.colors.Normalize(vmin=np.min(y_vals), vmax=np.max(y_vals))\n",
    "cmap = mpl.cm.ScalarMappable(norm=norm, cmap=mpl.cm.plasma)\n",
    "cmap.set_array([])\n",
    "\n",
    "for y in y_vals:\n",
    "    plt.plot(wav, plot(y, wav), c=cmap.to_rgba(y))\n",
    "    \n",
    "cb = fig.colorbar(cmap, ticks=y_vals)\n",
    "\n",
    "cb.ax.set_ylabel(\"$\\mathrm{Distance} \\, \\mathrm{from} \\, \\mathrm{axis} \\, (\\mathrm{mm})$\")\n",
    "    \n",
    "plt.xlabel(\"$\\mathrm{Wavelength} \\, (\\mathrm{\\mu m})$\")\n",
    "plt.ylabel(\"$\\mathrm{Focal} \\, \\mathrm{distance} \\, (\\mathrm{mm})$\")\n",
    "plt.tight_layout()\n",
    "plt.show()"
   ]
  },
  {
   "cell_type": "code",
   "execution_count": null,
   "metadata": {},
   "outputs": [],
   "source": []
  }
 ],
 "metadata": {
  "interpreter": {
   "hash": "6bb592209296cd01c15104ad459fec7efda459241065ece1923d14d5c00ced46"
  },
  "kernelspec": {
   "display_name": "Python 3",
   "language": "python",
   "name": "python3"
  },
  "language_info": {
   "codemirror_mode": {
    "name": "ipython",
    "version": 3
   },
   "file_extension": ".py",
   "mimetype": "text/x-python",
   "name": "python",
   "nbconvert_exporter": "python",
   "pygments_lexer": "ipython3",
   "version": "3.8.11"
  }
 },
 "nbformat": 4,
 "nbformat_minor": 4
}
