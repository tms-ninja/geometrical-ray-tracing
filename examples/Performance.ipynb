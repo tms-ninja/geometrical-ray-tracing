{
 "cells": [
  {
   "cell_type": "markdown",
   "id": "81a60e83-cea1-4dfa-8f3c-3997a0ba8643",
   "metadata": {},
   "source": [
    "# Performance Tester\n",
    "Very basic test to measure performance."
   ]
  },
  {
   "cell_type": "code",
   "execution_count": 1,
   "id": "c34931dd-736f-4534-b43b-cb5e7166775d",
   "metadata": {},
   "outputs": [],
   "source": [
    "%matplotlib widget\n",
    "import numpy as np\n",
    "from tracing import PyTrace, PyRay, PyMirror_Sph"
   ]
  },
  {
   "cell_type": "code",
   "execution_count": 2,
   "id": "847420cc-7554-4e66-9b21-99a501139190",
   "metadata": {},
   "outputs": [],
   "source": [
    "m = PyMirror_Sph(np.zeros(2), 10, 0.0, 2*np.pi)\n",
    "\n",
    "N = 100\n",
    "\n",
    "comps = [PyMirror_Sph(np.zeros(2), 10, i*2*np.pi/N, (i+1)*2*np.pi/N) for i in range(N)]"
   ]
  },
  {
   "cell_type": "code",
   "execution_count": 3,
   "id": "4dbb36a9-f70e-452c-90a4-925d86718080",
   "metadata": {},
   "outputs": [
    {
     "name": "stdout",
     "output_type": "stream",
     "text": [
      "178 µs ± 2.88 µs per loop (mean ± std. dev. of 7 runs, 10000 loops each)\n"
     ]
    }
   ],
   "source": [
    "%%timeit\n",
    "# creation of PyRay takes about 2.5 microseconds\n",
    "r = PyRay(np.array([-5.0, 0.5]), np.array([1.0, 0.0]))\n",
    "\n",
    "PyTrace(comps, [r], n=100)"
   ]
  },
  {
   "cell_type": "code",
   "execution_count": null,
   "id": "f718bfe3-42ee-4242-bae5-7726f2cd9774",
   "metadata": {},
   "outputs": [],
   "source": []
  }
 ],
 "metadata": {
  "kernelspec": {
   "display_name": "Python 3",
   "language": "python",
   "name": "python3"
  },
  "language_info": {
   "codemirror_mode": {
    "name": "ipython",
    "version": 3
   },
   "file_extension": ".py",
   "mimetype": "text/x-python",
   "name": "python",
   "nbconvert_exporter": "python",
   "pygments_lexer": "ipython3",
   "version": "3.8.11"
  }
 },
 "nbformat": 4,
 "nbformat_minor": 5
}
